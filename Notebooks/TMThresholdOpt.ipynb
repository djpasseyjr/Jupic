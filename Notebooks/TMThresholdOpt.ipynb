{
 "cells": [
  {
   "cell_type": "code",
   "execution_count": 1,
   "id": "73c7b4a1-ed1f-4b40-92f4-59c83d8049f5",
   "metadata": {},
   "outputs": [
    {
     "name": "stdout",
     "output_type": "stream",
     "text": [
      "\u001b[0m\u001b[1mTest Summary: | \u001b[22m\u001b[32m\u001b[1mPass  \u001b[22m\u001b[39m\u001b[36m\u001b[1mTotal\u001b[22m\u001b[39m\n",
      "update!       | \u001b[32m   7  \u001b[39m\u001b[36m    7\u001b[39m\n",
      "  94.454 ms (4916 allocations: 6.77 MiB)\n",
      "nothing\n"
     ]
    }
   ],
   "source": [
    "include(\"temporal_mem_thresholder.jl\")"
   ]
  },
  {
   "cell_type": "code",
   "execution_count": null,
   "id": "84de2a96-0713-4568-bbe6-f129674740c5",
   "metadata": {},
   "outputs": [],
   "source": [
    "function update!(tmt::TMThreshold, segment_activations, active_col_idxs)\n",
    "    \n",
    "    # Make active column array\n",
    "    x = active_cols_to_sparray(tmt, active_col_idxs)\n",
    "    # Make unpredicted set for false negative updates\n",
    "    unpredicted = Set(active_col_idxs)\n",
    "    \n",
    "    # Iterate over synapse activations\n",
    "    # Update true positives and false positives\n",
    "    map(enumerate(segment_activations)) do (j, sj)\n",
    "        θj = @view tmt.θ[:, j]\n",
    "        aj = SparseVector(sj .> θj)\n",
    "        update_true_positive!(j, aj, x, tmt, active_col_idxs, unpredicted)\n",
    "        update_false_pos!(j, aj, x, tmt)\n",
    "    end\n",
    "    \n",
    "    # False negative update\n",
    "    decrease_threshold!.(tmt, find_max_segments(tmt, segment_activations, unpredicted))\n",
    "    very_small_increase_threshold!(tmt)\n",
    "    return nothing\n",
    "end"
   ]
  },
  {
   "cell_type": "code",
   "execution_count": 22,
   "id": "c63538c7-15e3-45e4-a2e2-36324630ad98",
   "metadata": {},
   "outputs": [],
   "source": [
    "num_cols = 1024\n",
    "cells_per_col = 32\n",
    "num_cells = num_cols * cells_per_col\n",
    "\n",
    "# Segments and synapses\n",
    "segments_per_cell = 64\n",
    "synapses_per_segment = 50\n",
    "segment_sparsity = synapses_per_segment / num_cells;\n",
    "\n",
    "# Initialize\n",
    "tmt = TMThreshold(\n",
    "    num_cells, \n",
    "    cells_per_col, \n",
    "    segments_per_cell, \n",
    "    synapses_per_segment\n",
    ")\n",
    "\n",
    "enc_len = 32\n",
    "active_col_idxs = randperm(num_cols)[1:enc_len]\n",
    "x = active_cols_to_sparray(tmt, active_cols)\n",
    "segment_activations = project(tmt, x);"
   ]
  },
  {
   "cell_type": "code",
   "execution_count": 23,
   "id": "8ddf1b9a-2375-4f47-be75-edd791cc0149",
   "metadata": {},
   "outputs": [
    {
     "name": "stdout",
     "output_type": "stream",
     "text": [
      "  30.504 μs (188 allocations: 465.30 KiB)\n"
     ]
    }
   ],
   "source": [
    "# Make active column array\n",
    "@btime x = active_cols_to_sparray($tmt, $active_col_idxs);\n"
   ]
  },
  {
   "cell_type": "code",
   "execution_count": 24,
   "id": "29164937-7aeb-4194-8735-682bb6917d3c",
   "metadata": {},
   "outputs": [
    {
     "name": "stdout",
     "output_type": "stream",
     "text": [
      "  462.660 ns (7 allocations: 1.15 KiB)\n"
     ]
    }
   ],
   "source": [
    "# Make unpredicted set for false negative updates\n",
    "@btime unpredicted = Set($active_col_idxs);"
   ]
  },
  {
   "cell_type": "code",
   "execution_count": 25,
   "id": "81175020-1ad6-425f-a650-9ee3b212635e",
   "metadata": {},
   "outputs": [
    {
     "name": "stdout",
     "output_type": "stream",
     "text": [
      "  87.948 ms (1025 allocations: 5.41 MiB)\n"
     ]
    }
   ],
   "source": [
    "# Iterate over synapse activations\n",
    "# Update true positives and false positives\n",
    "@btime map(enumerate($segment_activations)) do (j, sj)\n",
    "    θj = @view $tmt.θ[:, j]\n",
    "    aj = SparseVector(sj .> θj)\n",
    "    update_true_positive!(j, aj, $x, $tmt, $active_col_idxs, $unpredicted)\n",
    "    update_false_pos!(j, aj, $x, $tmt)\n",
    "end;"
   ]
  },
  {
   "cell_type": "markdown",
   "id": "90fb26d8-519c-46a0-8aa9-9415eba9d03e",
   "metadata": {},
   "source": [
    "# In main loop"
   ]
  },
  {
   "cell_type": "code",
   "execution_count": 26,
   "id": "56095a16-1b08-43dc-9e4c-8a35c194596d",
   "metadata": {
    "tags": []
   },
   "outputs": [
    {
     "name": "stdout",
     "output_type": "stream",
     "text": [
      "  2.086 ns (0 allocations: 0 bytes)\n"
     ]
    }
   ],
   "source": [
    "@btime θj = @view $tmt.θ[:, 1];"
   ]
  },
  {
   "cell_type": "code",
   "execution_count": 27,
   "id": "f0be3b2d-4253-45c6-a9ac-dc829ec78058",
   "metadata": {},
   "outputs": [
    {
     "name": "stdout",
     "output_type": "stream",
     "text": [
      "  411.455 μs (16 allocations: 1.31 MiB)\n"
     ]
    }
   ],
   "source": [
    "θj = 4*ones(size(tmt.θ)...)[:, 1]\n",
    "sj = segment_activations[1]\n",
    "aj = @btime aj = SparseVector($sj .> $θj);"
   ]
  },
  {
   "cell_type": "code",
   "execution_count": 28,
   "id": "1a6da199-e3d4-4c47-8385-46467bfac977",
   "metadata": {},
   "outputs": [
    {
     "name": "stdout",
     "output_type": "stream",
     "text": [
      "  1.485 μs (6 allocations: 9.62 KiB)\n"
     ]
    }
   ],
   "source": [
    "j = 1\n",
    "@btime update_true_positive!($j, $aj, $x, $tmt, $active_col_idxs, $unpredicted)\n"
   ]
  },
  {
   "cell_type": "code",
   "execution_count": 29,
   "id": "4c6c4d29-2e75-4a5d-bb68-c8fdb697176c",
   "metadata": {},
   "outputs": [
    {
     "name": "stdout",
     "output_type": "stream",
     "text": [
      "  3.503 μs (4 allocations: 33.50 KiB)\n"
     ]
    }
   ],
   "source": [
    "@btime update_false_pos!($j, $aj, $x, $tmt)"
   ]
  },
  {
   "cell_type": "markdown",
   "id": "07c7602e-7833-4cd7-b866-6ba63fbedad0",
   "metadata": {},
   "source": [
    "### Thresholding seems like the bottleneck"
   ]
  },
  {
   "cell_type": "code",
   "execution_count": 32,
   "id": "daabd2b3-cac4-4c8d-9275-14b5fe7172da",
   "metadata": {},
   "outputs": [
    {
     "name": "stdout",
     "output_type": "stream",
     "text": [
      "  87.709 ms (385 allocations: 2.79 MiB)\n"
     ]
    }
   ],
   "source": [
    "@btime map(enumerate($segment_activations)) do (j, sj)\n",
    "    θj = @view $tmt.θ[:, j]\n",
    "    aj = SparseVector(sj .> θj)\n",
    "end;"
   ]
  },
  {
   "cell_type": "markdown",
   "id": "ec3c9ecb-4882-45a7-911b-6ed2914df2cf",
   "metadata": {},
   "source": [
    "This was the problem! Fixed! 5ms per update now"
   ]
  },
  {
   "cell_type": "markdown",
   "id": "049705ce-c3e5-4560-a717-1588b944f6c1",
   "metadata": {},
   "source": [
    "# Outside main loop"
   ]
  },
  {
   "cell_type": "code",
   "execution_count": 10,
   "id": "03be9a84-6a31-4bc1-aff6-b6675a08d9f4",
   "metadata": {},
   "outputs": [
    {
     "name": "stdout",
     "output_type": "stream",
     "text": [
      "  55.241 μs (150 allocations: 33.72 KiB)\n"
     ]
    },
    {
     "data": {
      "text/plain": [
       "1-element Vector{Float64}:\n",
       " -7816.800000010906"
      ]
     },
     "execution_count": 10,
     "metadata": {},
     "output_type": "execute_result"
    }
   ],
   "source": [
    "# False negative update\n",
    "@btime decrease_threshold!.(tmt, find_max_segments(tmt, segment_activations, unpredicted));\n"
   ]
  },
  {
   "cell_type": "code",
   "execution_count": 13,
   "id": "738dcfd6-5b2a-49c0-9e0f-27e3b58f14c6",
   "metadata": {},
   "outputs": [
    {
     "name": "stdout",
     "output_type": "stream",
     "text": [
      "  1.124 ms (0 allocations: 0 bytes)\n"
     ]
    }
   ],
   "source": [
    "@btime very_small_increase_threshold!(tmt);"
   ]
  },
  {
   "cell_type": "code",
   "execution_count": null,
   "id": "1eb1c534-de00-405e-a9a7-d5926c089fef",
   "metadata": {},
   "outputs": [],
   "source": []
  }
 ],
 "metadata": {
  "kernelspec": {
   "display_name": "Julia 1.7.3",
   "language": "julia",
   "name": "julia-1.7"
  },
  "language_info": {
   "file_extension": ".jl",
   "mimetype": "application/julia",
   "name": "julia",
   "version": "1.7.3"
  }
 },
 "nbformat": 4,
 "nbformat_minor": 5
}
