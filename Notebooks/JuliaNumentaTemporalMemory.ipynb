{
 "cells": [
  {
   "cell_type": "code",
   "execution_count": 1,
   "id": "d5ec1d02-bcab-4432-a25b-5ed341f449b5",
   "metadata": {},
   "outputs": [
    {
     "name": "stderr",
     "output_type": "stream",
     "text": [
      "\u001b[32m\u001b[1m  Activating\u001b[22m\u001b[39m project at `~/Projects/HTM/Notebooks`\n"
     ]
    }
   ],
   "source": [
    "] activate ."
   ]
  },
  {
   "cell_type": "code",
   "execution_count": 2,
   "id": "542db199-db86-4ca2-9c54-9b07987006a8",
   "metadata": {},
   "outputs": [
    {
     "name": "stderr",
     "output_type": "stream",
     "text": [
      "\u001b[32m\u001b[1m    Updating\u001b[22m\u001b[39m `~/Projects/HTM/Notebooks/Project.toml`\n",
      " \u001b[90m [d96e819e] \u001b[39m\u001b[91m- Parameters v0.12.3\u001b[39m\n",
      "\u001b[32m\u001b[1m  No Changes\u001b[22m\u001b[39m to `~/Projects/HTM/Notebooks/Manifest.toml`\n",
      "┌ Info: We haven't cleaned this depot up for a bit, running Pkg.gc()...\n",
      "└ @ Pkg /Users/julia/buildbot/worker/package_macos64/build/usr/share/julia/stdlib/v1.7/Pkg/src/Pkg.jl:639\n",
      "\u001b[32m\u001b[1m      Active\u001b[22m\u001b[39m manifest files: 3 found\n",
      "\u001b[32m\u001b[1m      Active\u001b[22m\u001b[39m artifact files: 78 found\n",
      "\u001b[32m\u001b[1m      Active\u001b[22m\u001b[39m scratchspaces: 7 found\n",
      "\u001b[32m\u001b[1m     Deleted\u001b[22m\u001b[39m no artifacts, repos, packages or scratchspaces\n"
     ]
    }
   ],
   "source": [
    "] remove Parameters"
   ]
  },
  {
   "cell_type": "code",
   "execution_count": 3,
   "id": "35f566cb-d763-469c-bf9e-123bf1c8f6c5",
   "metadata": {},
   "outputs": [],
   "source": [
    "using Random"
   ]
  },
  {
   "cell_type": "markdown",
   "id": "d08abdf8-9414-464f-96bd-03d1019cfae3",
   "metadata": {},
   "source": [
    "# Implementing the Numenta Temporal Memory Algorithm As Written\n",
    "\n",
    "[Source](https://numenta.com/assets/pdf/temporal-memory-algorithm/Temporal-Memory-Algorithm-Details.pdf)"
   ]
  },
  {
   "cell_type": "code",
   "execution_count": 12,
   "id": "6fc5d900-627d-4313-bff9-f110999607b5",
   "metadata": {},
   "outputs": [
    {
     "data": {
      "text/plain": [
       "50"
      ]
     },
     "execution_count": 12,
     "metadata": {},
     "output_type": "execute_result"
    }
   ],
   "source": [
    "const NUM_COLS = 2048\n",
    "const CELLS_PER_COL = 32\n",
    "const ACTIVATION_THRESHOLD = 15\n",
    "const INITIAL_PERMANENCE = 0.0\n",
    "const CONNECTED_PERMANENCE = 0.5\n",
    "const LEARNING_THRESHOLD = 12\n",
    "const LEARNING_ENABLED = true\n",
    "const PERMANENCE_INCREMENT = 0.05\n",
    "const PERMANENCE_DECREMENT = 0.05\n",
    "const PREDICTED_DECREMENT = 0.001\n",
    "const SYNAPSE_SAMPLE_SIZE = 50"
   ]
  },
  {
   "cell_type": "code",
   "execution_count": 15,
   "id": "9303654f-c9f9-4f00-840a-808eaffbd76a",
   "metadata": {},
   "outputs": [
    {
     "data": {
      "text/plain": [
       "Column"
      ]
     },
     "execution_count": 15,
     "metadata": {},
     "output_type": "execute_result"
    }
   ],
   "source": [
    "struct Column{T}\n",
    "    cells::Set{T}\n",
    "end\n",
    "\n",
    "struct Cell{T}\n",
    "    segments::Set{T}\n",
    "end\n",
    "\n",
    "struct Synapse{T}\n",
    "    permanence::T\n",
    "    presynaptic_cell::Cell\n",
    "end\n",
    "\n",
    "struct Segment\n",
    "    cell::Cell\n",
    "    synapses::Set{Synapse}\n",
    "end\n",
    "\n",
    "Cell() = Cell(Set{Segment}())\n",
    "Segment(c::Cell) = Segment(c, Set{Synapse}())\n",
    "\n",
    "function Cell(num_segments::Int)\n",
    "    c = Cell()\n",
    "    for i in 1:num_segments\n",
    "        push!(c.segments, Segment(c))\n",
    "    end\n",
    "    return c\n",
    "end\n",
    "\n",
    "Column(cells_per_col, segments_per_cell) = Column(Set([Cell(segments_per_cell) for i in 1:cells_per_col]))\n"
   ]
  },
  {
   "cell_type": "code",
   "execution_count": 6,
   "id": "15fd216e-b863-451b-adfc-2f8ca9c81ecc",
   "metadata": {},
   "outputs": [],
   "source": [
    "struct TempMemParams\n",
    "    # Constants\n",
    "    num_cols::Int\n",
    "    cells_per_col::Int\n",
    "    \n",
    "    # Keyword Args\n",
    "    activation_threshold::Int\n",
    "    initial_permanence::Float64\n",
    "    connected_peranence::Float64\n",
    "    learning_threshold::Int\n",
    "    learning_enabled::Bool\n",
    "    permanence_increment::Float64\n",
    "    permanence_decrement::Float64\n",
    "    predicted_decrement::Float64\n",
    "    synapse_sample_size::Int\n",
    "    initial_segments_per_cell::Int\n",
    "end"
   ]
  },
  {
   "cell_type": "code",
   "execution_count": 7,
   "id": "6f1fd457-a276-4047-b375-404ce6d95d39",
   "metadata": {},
   "outputs": [],
   "source": [
    "mutable struct TempMem\n",
    "    # Parameters\n",
    "    ps::TempMemParams\n",
    "    \n",
    "    # Mutables\n",
    "    columns::Array{Column, 1}\n",
    "    segments::Array{Segment, 1}\n",
    "    active_columns::Dict{Int, Set{Column}}\n",
    "    active_cells::Dict{Int, Set{Cell}}\n",
    "    winner_cells::Dict{Int, Set{Cell}}\n",
    "    active_segments::Dict{Int, Set{Segment}}\n",
    "    matching_segments::Dict{Int, Set{Segment}}\n",
    "    num_active_potential_synapses::Dict{Int, Dict{Segment, Int}}\n",
    "end"
   ]
  },
  {
   "cell_type": "code",
   "execution_count": 18,
   "id": "5edf1537-d5fd-440a-acb9-ba0e6b6bddeb",
   "metadata": {},
   "outputs": [],
   "source": [
    "function TempMem(\n",
    "    num_cols::Int,\n",
    "    cells_per_col::Int;\n",
    "\n",
    "    # Optional args\n",
    "    activation_threshold=15,\n",
    "    initial_permanence=0.3,\n",
    "    connected_peranence=0.5,\n",
    "    learning_threshold=12,\n",
    "    learning_enabled=true,\n",
    "    permanence_increment=0.05,\n",
    "    permanence_decrement=0.001,\n",
    "    predicted_decrement=0.05,\n",
    "    synapse_sample_size=50,\n",
    "    initial_segments_per_cell=0\n",
    ")\n",
    "    # Initialize parameter class\n",
    "    ps = TempMemParams(num_cols, cells_per_col, activation_threshold, \n",
    "        initial_permanence, connected_peranence, learning_threshold,\n",
    "        learning_enabled, permanence_increment, permanence_decrement,\n",
    "        predicted_decrement, synapse_sample_size, initial_segments_per_cell)\n",
    "    \n",
    "    columns = [Column(cells_per_col, initial_segments_per_cell) for i in 1:num_cols]\n",
    "    segments = [seg for col in columns for cell in col.cells for seg in cell.segments]\n",
    "    \n",
    "\n",
    "    # Past state storage\n",
    "    active_columns = Dict{Int, Set{Column}}()\n",
    "    active_cells = Dict{Int, Set{Cell}}()\n",
    "    winner_cells = Dict{Int, Set{Cell}}()\n",
    "    active_segments = Dict{Int, Set{Segment}}()\n",
    "    matching_segments = Dict{Int, Set{Segment}}()\n",
    "    num_active_potential_synapses = Dict{Int, Dict{Segment, Int}}()\n",
    "    \n",
    "    return TempMem(    \n",
    "        ps,\n",
    "        columns,\n",
    "        segments,\n",
    "        active_columns,\n",
    "        active_cells, \n",
    "        winner_cells,\n",
    "        active_segments,\n",
    "        matching_segments,\n",
    "        num_active_potential_synapses,\n",
    "    )\n",
    "end\n",
    "\n",
    "Base.show(io::IO, tm::TempMem) = print(io, \"TempMem\\n\\t$(tm.ps.num_cols) Columns\")"
   ]
  },
  {
   "cell_type": "code",
   "execution_count": 19,
   "id": "1b829792-8a80-4d84-8393-86358fa2c3a3",
   "metadata": {},
   "outputs": [
    {
     "data": {
      "text/plain": [
       "TempMem\n",
       "\t2048 Columns"
      ]
     },
     "execution_count": 19,
     "metadata": {},
     "output_type": "execute_result"
    }
   ],
   "source": [
    "tm = TempMem(\n",
    "    NUM_COLS,\n",
    "    CELLS_PER_COL\n",
    ")"
   ]
  },
  {
   "cell_type": "code",
   "execution_count": 21,
   "id": "53243c07-62e7-451e-bb0d-6a7c0e2c3775",
   "metadata": {},
   "outputs": [
    {
     "data": {
      "text/plain": [
       "evaluate_active_cols_against_predictions! (generic function with 1 method)"
      ]
     },
     "execution_count": 21,
     "metadata": {},
     "output_type": "execute_result"
    }
   ],
   "source": [
    "function evaluate_active_cols_against_predictions!(tm::TempMem, t::Int)\n",
    "    for column in tm.columns\n",
    "        # Grab all segments that are active from the current column\n",
    "        active_segs = segments_for_column(column, tm.active_segments[t-1])\n",
    "        if column in tm.active_columns[t]\n",
    "            # If the current column is an active column\n",
    "            # Check if it was predicted\n",
    "            if length(active_segs) > 0\n",
    "                # Acivate cells corresponding to active segments\n",
    "                activate_predicted_column(tm, column, active_segs, t)\n",
    "            else\n",
    "                # Activate all column cells\n",
    "                burst_column(tm, column, active_segs, t)\n",
    "            end\n",
    "        elseif length(active_segs) > 0\n",
    "            # If the column is not active, but it was predicted, punish it\n",
    "            punish_predicted_column(column)\n",
    "        end\n",
    "    end\n",
    "end"
   ]
  },
  {
   "cell_type": "code",
   "execution_count": 22,
   "id": "6fcc6a0c-350e-4215-aaa8-e13d8f26dc33",
   "metadata": {},
   "outputs": [
    {
     "data": {
      "text/plain": [
       "activate_predicted_column! (generic function with 1 method)"
      ]
     },
     "execution_count": 22,
     "metadata": {},
     "output_type": "execute_result"
    }
   ],
   "source": [
    "function activate_predicted_column!(tm::TempMem, column, active_segs, t)\n",
    "    for segment in segments_for_column(column, tm.active_segments[t-1])\n",
    "        tm.active_cells[t].add(segment.cell)\n",
    "        tm.winner_cells[t].add(segment.cell)\n",
    "        \n",
    "        if tm.learning_enabled\n",
    "            for synapse in segment.synapses\n",
    "                if synapse.presynaptic_cell in tm.active_cells[t-1]\n",
    "                    synapse.permanence += tm.ps.permanence_increment\n",
    "                else\n",
    "                    synapses.permanence -= tm.ps.permanence_decrement\n",
    "                end\n",
    "            end\n",
    "            new_synapse_count = tm.ps.synapse_sample_size - tm.num_active_potential_synapses[t-1][segment]\n",
    "            grow_synapses(segment, new_synapse_count)\n",
    "        end\n",
    "    end\n",
    "end"
   ]
  },
  {
   "cell_type": "code",
   "execution_count": 23,
   "id": "d764b34e-9867-45a6-ae5e-81c791a229db",
   "metadata": {},
   "outputs": [
    {
     "data": {
      "text/plain": [
       "burst_columns (generic function with 1 method)"
      ]
     },
     "execution_count": 23,
     "metadata": {},
     "output_type": "execute_result"
    }
   ],
   "source": [
    "function burst_columns(tm::TempMem, column, active_segs, t)\n",
    "    for cell in column.cells\n",
    "        push!(tm.active_cells[t], cell)\n",
    "    end\n",
    "    \n",
    "    if length(active_segs) > 0\n",
    "        learning_segment = best_matching_segment(tm, column, active_segs, t)\n",
    "        winner_cell = learning_segment.cell\n",
    "    else\n",
    "        winner_cell = least_used_cell(column)\n",
    "        if tm.ps.learning_enabled\n",
    "            learning_segment = grow_new_segment(winner_cell)\n",
    "        end\n",
    "    end\n",
    "    \n",
    "    push!(winner_cells[t], winner_cell)\n",
    "    \n",
    "    if tm.ps.learning_enabled\n",
    "        for synapse in learning_segment.synapses\n",
    "            if synapse.presynaptic_cell in tm.active_cells[t-1]\n",
    "                synapse.permanence += tm.ps.permanence_increment\n",
    "            else\n",
    "                synapse.permanence -= tm.ps.permanence_decrement\n",
    "            end\n",
    "        end\n",
    "        \n",
    "        new_synapse_count = tm.ps.synapse_sample_size - tm.num_active_potential_synapses[t-1][learning_segment]\n",
    "        grow_synapses(learning_segment, new_synapse_count)\n",
    "    end\n",
    "end"
   ]
  },
  {
   "cell_type": "code",
   "execution_count": 24,
   "id": "925d3f18-05be-4978-a1ec-02fe72d00c85",
   "metadata": {},
   "outputs": [
    {
     "data": {
      "text/plain": [
       "punish_predicted_column (generic function with 1 method)"
      ]
     },
     "execution_count": 24,
     "metadata": {},
     "output_type": "execute_result"
    }
   ],
   "source": [
    "function punish_predicted_column(tm, column, active_segs, t)\n",
    "    if tm.ps.learning_enabled\n",
    "        for segment in active_segs\n",
    "            for synapse in segment.synapses\n",
    "                if synapse.presynaptic_cell in tm.active_cells[t-1]\n",
    "                    synapse.permanence -= tm.ps.redicted_decrement\n",
    "                end\n",
    "            end\n",
    "        end\n",
    "    end\n",
    "end"
   ]
  },
  {
   "cell_type": "code",
   "execution_count": 25,
   "id": "fb1f527b-7ad6-484e-ba71-fe7df910c82a",
   "metadata": {},
   "outputs": [
    {
     "data": {
      "text/plain": [
       "activate_segments (generic function with 1 method)"
      ]
     },
     "execution_count": 25,
     "metadata": {},
     "output_type": "execute_result"
    }
   ],
   "source": [
    "function activate_segments(tm, t)\n",
    "    for segment in tm.segments\n",
    "        num_active_connected = 0\n",
    "        num_active_potential = 0\n",
    "        for synapse in segment.synapses\n",
    "            if synapse.presynaptic_cell in tm.active_cell[t]\n",
    "                if synapse.permanence >= tm.ps.connected_permanence\n",
    "                    num_active_connected += 1\n",
    "                end\n",
    "                if synapse.permanence >= 0\n",
    "                        num_active_potential += 1\n",
    "                end\n",
    "            end\n",
    "        end\n",
    "    end\n",
    "    if num_active_connected >= tm.ps.activation_threshold\n",
    "        push!(tm.active_segments[t], segment)\n",
    "    end\n",
    "    if num_active_potential >= tm.ps.learning_threshold\n",
    "        push!(tm.matching_segments[t], segment)\n",
    "    end\n",
    "    tm.num_active_potential_synapses[t][segment] = num_active_potential\n",
    "end"
   ]
  },
  {
   "cell_type": "code",
   "execution_count": 26,
   "id": "8099f2f7-d2e2-49aa-afb8-666f438b25f5",
   "metadata": {},
   "outputs": [
    {
     "data": {
      "text/plain": [
       "least_used_cell (generic function with 1 method)"
      ]
     },
     "execution_count": 26,
     "metadata": {},
     "output_type": "execute_result"
    }
   ],
   "source": [
    "function least_used_cell(tm, column)\n",
    "    fewest_segments = Inf\n",
    "    for cell in column.cells\n",
    "        fewest_segments = min(fewest_segments, length(cell.segments))\n",
    "    end\n",
    "    least_used_cells = Cell[]\n",
    "    for cell in column.cells\n",
    "        if cell.segments.lengh == fewest_segments\n",
    "            push!(least_used_cells, cell)\n",
    "        end\n",
    "    end\n",
    "    \n",
    "    return rand(least_used_cells)\n",
    "end"
   ]
  },
  {
   "cell_type": "code",
   "execution_count": 27,
   "id": "6e88f940-10dd-42be-8596-dced12631383",
   "metadata": {},
   "outputs": [
    {
     "data": {
      "text/plain": [
       "best_matching_segment (generic function with 1 method)"
      ]
     },
     "execution_count": 27,
     "metadata": {},
     "output_type": "execute_result"
    }
   ],
   "source": [
    "function best_matching_segment(tm, column, active_segs, t)\n",
    "    best_matching_segment = Segment()\n",
    "    best_score = -1\n",
    "    for segment in active_segs\n",
    "        score = tm.num_active_potential_synapses[t-1][segment]\n",
    "        if score > best_score\n",
    "            best_matching_segment = segment\n",
    "            best_score = score\n",
    "        end\n",
    "    end\n",
    "    \n",
    "    return best_matching_segment\n",
    "end"
   ]
  },
  {
   "cell_type": "code",
   "execution_count": 29,
   "id": "3d2782c6-8c55-4692-81d7-dc27d8edf1f2",
   "metadata": {},
   "outputs": [
    {
     "data": {
      "text/plain": [
       "grow_synapses (generic function with 1 method)"
      ]
     },
     "execution_count": 29,
     "metadata": {},
     "output_type": "execute_result"
    }
   ],
   "source": [
    "function grow_synapses(tm, segment, new_synapse_count, t)\n",
    "    candidates = Set([wc for wc in tm.winner_cells[t-1]])\n",
    "    while (length(candidates) > 0) && (new_synapse_count > 0)\n",
    "        presynaptic_cell = rand(candidates)\n",
    "        pop!(candidates, presynaptic_cell)\n",
    "        already_connected = false\n",
    "        for synapse in segment.synapses\n",
    "            if synapse.presynaptic_cell == presynaptic_cell\n",
    "                already_connected = true\n",
    "            end\n",
    "        end\n",
    "        if !already_connected\n",
    "            new_synapse = create_new_synapse(segment, presynaptic_cell, tm.ps.initial_permanence)\n",
    "            new_synapse_count -= 1\n",
    "        end\n",
    "    end\n",
    "end"
   ]
  },
  {
   "cell_type": "code",
   "execution_count": 30,
   "id": "b85f2876-7020-481c-a59b-7c70603dc5ce",
   "metadata": {},
   "outputs": [
    {
     "data": {
      "text/plain": [
       "segments_for_column (generic function with 1 method)"
      ]
     },
     "execution_count": 30,
     "metadata": {},
     "output_type": "execute_result"
    }
   ],
   "source": [
    "function create_new_synapse(segment, presynaptic_cell, permanence)\n",
    "    syn = Synapse(presynaptic_cell, permanence)\n",
    "    push!(segment.synapses, syn)\n",
    "end\n",
    "\n",
    "function random_initial!(tm::TempMem, num_active::Int)\n",
    "    active_idxs = randperm(1:tm.num_cols)[1:num_active]\n",
    "    tm.active_columns[0] = tm.columns[active_idxs]\n",
    "end\n",
    "\n",
    "segments_for_column(column, segments) = filter(s -> s.cell in column.cells, segments)"
   ]
  },
  {
   "cell_type": "code",
   "execution_count": null,
   "id": "2e439386-b373-42bf-bcea-443c8bf89e13",
   "metadata": {},
   "outputs": [],
   "source": []
  }
 ],
 "metadata": {
  "kernelspec": {
   "display_name": "Julia 1.7.3",
   "language": "julia",
   "name": "julia-1.7"
  },
  "language_info": {
   "file_extension": ".jl",
   "mimetype": "application/julia",
   "name": "julia",
   "version": "1.7.3"
  }
 },
 "nbformat": 4,
 "nbformat_minor": 5
}
